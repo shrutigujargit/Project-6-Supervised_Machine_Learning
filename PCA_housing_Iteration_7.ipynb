{
 "cells": [
  {
   "cell_type": "markdown",
   "id": "4158a6a8-4c98-44d9-903d-fb2305255340",
   "metadata": {},
   "source": [
    "## PCA, Pipelines & Model persistance"
   ]
  },
  {
   "cell_type": "markdown",
   "id": "62e29111-1a02-4805-b885-a7da1b62828e",
   "metadata": {},
   "source": [
    "PCA technique is particularly useful in processing data where multi-colinearity exists between the features/variables. "
   ]
  },
  {
   "cell_type": "code",
   "execution_count": 60,
   "id": "f40fe6a0-5352-499f-8bd3-41dd722c12c0",
   "metadata": {},
   "outputs": [],
   "source": [
    "import pandas as pd\n",
    "import numpy as np\n",
    "import time\n",
    "import matplotlib.pyplot as plt\n",
    "from scipy.stats import randint\n",
    "import seaborn as sns\n",
    "from sklearn.model_selection import train_test_split\n",
    "from sklearn.metrics import mean_squared_error, mean_absolute_error, mean_absolute_percentage_error, r2_score\n",
    "from sklearn.preprocessing import StandardScaler, MinMaxScaler\n",
    "from sklearn.impute import SimpleImputer\n",
    "from sklearn.preprocessing import OneHotEncoder\n",
    "from sklearn.preprocessing import OrdinalEncoder\n",
    "from sklearn.pipeline import make_pipeline\n",
    "from sklearn.compose import ColumnTransformer\n",
    "from sklearn.model_selection import GridSearchCV, RandomizedSearchCV\n",
    "from sklearn.feature_selection import RFECV\n",
    "from sklearn.decomposition import PCA\n",
    "# reading\n",
    "df = pd.read_csv(\"housing_prices.csv\") "
   ]
  },
  {
   "cell_type": "code",
   "execution_count": 61,
   "id": "362b44d8-2dd4-4fb3-8e44-da4902f2118a",
   "metadata": {},
   "outputs": [
    {
     "data": {
      "text/plain": [
       "MSSubClass         0\n",
       "MSZoning           0\n",
       "LotFrontage      259\n",
       "LotArea            0\n",
       "Street             0\n",
       "                ... \n",
       "MoSold             0\n",
       "YrSold             0\n",
       "SaleType           0\n",
       "SaleCondition      0\n",
       "SalePrice          0\n",
       "Length: 80, dtype: int64"
      ]
     },
     "execution_count": 61,
     "metadata": {},
     "output_type": "execute_result"
    }
   ],
   "source": [
    "df = df.set_index('Id')\n",
    "df.isna().sum()"
   ]
  },
  {
   "cell_type": "code",
   "execution_count": 62,
   "id": "edcd8eab-f89b-40d3-a461-09ed630a6c2b",
   "metadata": {},
   "outputs": [
    {
     "data": {
      "text/plain": [
       "Id\n",
       "1       RL\n",
       "2       RL\n",
       "3       RL\n",
       "4       RL\n",
       "5       RL\n",
       "        ..\n",
       "1456    RL\n",
       "1457    RL\n",
       "1458    RL\n",
       "1459    RL\n",
       "1460    RL\n",
       "Name: MSZoning, Length: 1460, dtype: object"
      ]
     },
     "execution_count": 62,
     "metadata": {},
     "output_type": "execute_result"
    }
   ],
   "source": [
    "#data.columns\n",
    "df['MSZoning'].apply(str)"
   ]
  },
  {
   "cell_type": "code",
   "execution_count": 63,
   "id": "8d0fee83-1b82-44e4-aa48-eba407604a4b",
   "metadata": {},
   "outputs": [
    {
     "data": {
      "text/plain": [
       "RL         1151\n",
       "RM          218\n",
       "FV           65\n",
       "RH           16\n",
       "C (all)      10\n",
       "Name: MSZoning, dtype: int64"
      ]
     },
     "execution_count": 63,
     "metadata": {},
     "output_type": "execute_result"
    }
   ],
   "source": [
    "df['MSZoning'].value_counts()"
   ]
  },
  {
   "cell_type": "markdown",
   "id": "a1dd6095-9251-4855-bedd-216277d1e87d",
   "metadata": {},
   "source": [
    "## Train-test split"
   ]
  },
  {
   "cell_type": "code",
   "execution_count": 64,
   "id": "a6e5f880-58ca-4a15-a2e0-251de0b0756d",
   "metadata": {},
   "outputs": [],
   "source": [
    "y = df['SalePrice'].copy()\n",
    "X = df.drop(columns=['SalePrice']).copy()"
   ]
  },
  {
   "cell_type": "code",
   "execution_count": 65,
   "id": "bd609f1c-5774-4389-9472-8532a2a2ddbe",
   "metadata": {},
   "outputs": [],
   "source": [
    "#Data_Splitting\n",
    "X_train, X_test, y_train, y_test = train_test_split(X, y, test_size=.2, random_state=1230000)\n",
    "#X_train"
   ]
  },
  {
   "cell_type": "code",
   "execution_count": 66,
   "id": "ccc58085-fb7e-4359-a638-9992c40443d8",
   "metadata": {},
   "outputs": [],
   "source": [
    "# copy of train_X and test_X\n",
    "train_X_original = X_train.copy()\n",
    "test_X_original = X_test.copy()"
   ]
  },
  {
   "cell_type": "markdown",
   "id": "eef0e97d-3209-4179-8254-9edfebcd0c69",
   "metadata": {},
   "source": [
    "## Pre-processing"
   ]
  },
  {
   "cell_type": "code",
   "execution_count": 67,
   "id": "583356e7-77fb-4e30-8a28-c6d03c6d7839",
   "metadata": {},
   "outputs": [],
   "source": [
    "# import\n",
    "from sklearn.preprocessing import OneHotEncoder\n",
    "# select categorical and numerical column names\n",
    "X_cat_columns = X_train.select_dtypes(exclude=\"number\").copy().columns\n",
    "X_num_columns = X_train.select_dtypes(include=\"number\").copy().columns\n",
    "\n",
    "# create numerical pipeline, only with the SimpleImputer(strategy=\"median\" and data scaling)\n",
    "#scaler = StandardScaler(with_mean=False)\n",
    "numeric_pipe = make_pipeline(MinMaxScaler(),SimpleImputer(strategy=\"median\"))\n",
    " \n",
    " # create categorical pipeline\n",
    "categoric_pipe = make_pipeline(\n",
    "    SimpleImputer(strategy=\"most_frequent\"),   \n",
    "    OneHotEncoder(drop=\"first\",handle_unknown='ignore', sparse = False))"
   ]
  },
  {
   "cell_type": "code",
   "execution_count": 68,
   "id": "625e8d5e-5ea5-4ada-92e8-2b93e41f0f79",
   "metadata": {},
   "outputs": [
    {
     "data": {
      "text/html": [
       "<style>#sk-container-id-6 {color: black;background-color: white;}#sk-container-id-6 pre{padding: 0;}#sk-container-id-6 div.sk-toggleable {background-color: white;}#sk-container-id-6 label.sk-toggleable__label {cursor: pointer;display: block;width: 100%;margin-bottom: 0;padding: 0.3em;box-sizing: border-box;text-align: center;}#sk-container-id-6 label.sk-toggleable__label-arrow:before {content: \"▸\";float: left;margin-right: 0.25em;color: #696969;}#sk-container-id-6 label.sk-toggleable__label-arrow:hover:before {color: black;}#sk-container-id-6 div.sk-estimator:hover label.sk-toggleable__label-arrow:before {color: black;}#sk-container-id-6 div.sk-toggleable__content {max-height: 0;max-width: 0;overflow: hidden;text-align: left;background-color: #f0f8ff;}#sk-container-id-6 div.sk-toggleable__content pre {margin: 0.2em;color: black;border-radius: 0.25em;background-color: #f0f8ff;}#sk-container-id-6 input.sk-toggleable__control:checked~div.sk-toggleable__content {max-height: 200px;max-width: 100%;overflow: auto;}#sk-container-id-6 input.sk-toggleable__control:checked~label.sk-toggleable__label-arrow:before {content: \"▾\";}#sk-container-id-6 div.sk-estimator input.sk-toggleable__control:checked~label.sk-toggleable__label {background-color: #d4ebff;}#sk-container-id-6 div.sk-label input.sk-toggleable__control:checked~label.sk-toggleable__label {background-color: #d4ebff;}#sk-container-id-6 input.sk-hidden--visually {border: 0;clip: rect(1px 1px 1px 1px);clip: rect(1px, 1px, 1px, 1px);height: 1px;margin: -1px;overflow: hidden;padding: 0;position: absolute;width: 1px;}#sk-container-id-6 div.sk-estimator {font-family: monospace;background-color: #f0f8ff;border: 1px dotted black;border-radius: 0.25em;box-sizing: border-box;margin-bottom: 0.5em;}#sk-container-id-6 div.sk-estimator:hover {background-color: #d4ebff;}#sk-container-id-6 div.sk-parallel-item::after {content: \"\";width: 100%;border-bottom: 1px solid gray;flex-grow: 1;}#sk-container-id-6 div.sk-label:hover label.sk-toggleable__label {background-color: #d4ebff;}#sk-container-id-6 div.sk-serial::before {content: \"\";position: absolute;border-left: 1px solid gray;box-sizing: border-box;top: 0;bottom: 0;left: 50%;z-index: 0;}#sk-container-id-6 div.sk-serial {display: flex;flex-direction: column;align-items: center;background-color: white;padding-right: 0.2em;padding-left: 0.2em;position: relative;}#sk-container-id-6 div.sk-item {position: relative;z-index: 1;}#sk-container-id-6 div.sk-parallel {display: flex;align-items: stretch;justify-content: center;background-color: white;position: relative;}#sk-container-id-6 div.sk-item::before, #sk-container-id-6 div.sk-parallel-item::before {content: \"\";position: absolute;border-left: 1px solid gray;box-sizing: border-box;top: 0;bottom: 0;left: 50%;z-index: -1;}#sk-container-id-6 div.sk-parallel-item {display: flex;flex-direction: column;z-index: 1;position: relative;background-color: white;}#sk-container-id-6 div.sk-parallel-item:first-child::after {align-self: flex-end;width: 50%;}#sk-container-id-6 div.sk-parallel-item:last-child::after {align-self: flex-start;width: 50%;}#sk-container-id-6 div.sk-parallel-item:only-child::after {width: 0;}#sk-container-id-6 div.sk-dashed-wrapped {border: 1px dashed gray;margin: 0 0.4em 0.5em 0.4em;box-sizing: border-box;padding-bottom: 0.4em;background-color: white;}#sk-container-id-6 div.sk-label label {font-family: monospace;font-weight: bold;display: inline-block;line-height: 1.2em;}#sk-container-id-6 div.sk-label-container {text-align: center;}#sk-container-id-6 div.sk-container {/* jupyter's `normalize.less` sets `[hidden] { display: none; }` but bootstrap.min.css set `[hidden] { display: none !important; }` so we also need the `!important` here to be able to override the default hidden behavior on the sphinx rendered scikit-learn.org. See: https://github.com/scikit-learn/scikit-learn/issues/21755 */display: inline-block !important;position: relative;}#sk-container-id-6 div.sk-text-repr-fallback {display: none;}</style><div id=\"sk-container-id-6\" class=\"sk-top-container\"><div class=\"sk-text-repr-fallback\"><pre>ColumnTransformer(transformers=[(&#x27;num_pipe&#x27;,\n",
       "                                 Pipeline(steps=[(&#x27;minmaxscaler&#x27;,\n",
       "                                                  MinMaxScaler()),\n",
       "                                                 (&#x27;simpleimputer&#x27;,\n",
       "                                                  SimpleImputer(strategy=&#x27;median&#x27;))]),\n",
       "                                 Index([&#x27;MSSubClass&#x27;, &#x27;LotFrontage&#x27;, &#x27;LotArea&#x27;, &#x27;OverallQual&#x27;, &#x27;OverallCond&#x27;,\n",
       "       &#x27;YearBuilt&#x27;, &#x27;YearRemodAdd&#x27;, &#x27;MasVnrArea&#x27;, &#x27;BsmtFinSF1&#x27;, &#x27;BsmtFinSF2&#x27;,\n",
       "       &#x27;BsmtUnfSF&#x27;, &#x27;TotalBsmtSF&#x27;, &#x27;1stFlrSF&#x27;, &#x27;2ndFlrSF&#x27;, &#x27;LowQualFinSF&#x27;,\n",
       "       &#x27;GrL...\n",
       "       &#x27;Exterior2nd&#x27;, &#x27;MasVnrType&#x27;, &#x27;ExterQual&#x27;, &#x27;ExterCond&#x27;, &#x27;Foundation&#x27;,\n",
       "       &#x27;BsmtQual&#x27;, &#x27;BsmtCond&#x27;, &#x27;BsmtExposure&#x27;, &#x27;BsmtFinType1&#x27;, &#x27;BsmtFinType2&#x27;,\n",
       "       &#x27;Heating&#x27;, &#x27;HeatingQC&#x27;, &#x27;CentralAir&#x27;, &#x27;Electrical&#x27;, &#x27;KitchenQual&#x27;,\n",
       "       &#x27;Functional&#x27;, &#x27;FireplaceQu&#x27;, &#x27;GarageType&#x27;, &#x27;GarageFinish&#x27;, &#x27;GarageQual&#x27;,\n",
       "       &#x27;GarageCond&#x27;, &#x27;PavedDrive&#x27;, &#x27;PoolQC&#x27;, &#x27;Fence&#x27;, &#x27;MiscFeature&#x27;,\n",
       "       &#x27;SaleType&#x27;, &#x27;SaleCondition&#x27;],\n",
       "      dtype=&#x27;object&#x27;))])</pre><b>In a Jupyter environment, please rerun this cell to show the HTML representation or trust the notebook. <br />On GitHub, the HTML representation is unable to render, please try loading this page with nbviewer.org.</b></div><div class=\"sk-container\" hidden><div class=\"sk-item sk-dashed-wrapped\"><div class=\"sk-label-container\"><div class=\"sk-label sk-toggleable\"><input class=\"sk-toggleable__control sk-hidden--visually\" id=\"sk-estimator-id-37\" type=\"checkbox\" ><label for=\"sk-estimator-id-37\" class=\"sk-toggleable__label sk-toggleable__label-arrow\">ColumnTransformer</label><div class=\"sk-toggleable__content\"><pre>ColumnTransformer(transformers=[(&#x27;num_pipe&#x27;,\n",
       "                                 Pipeline(steps=[(&#x27;minmaxscaler&#x27;,\n",
       "                                                  MinMaxScaler()),\n",
       "                                                 (&#x27;simpleimputer&#x27;,\n",
       "                                                  SimpleImputer(strategy=&#x27;median&#x27;))]),\n",
       "                                 Index([&#x27;MSSubClass&#x27;, &#x27;LotFrontage&#x27;, &#x27;LotArea&#x27;, &#x27;OverallQual&#x27;, &#x27;OverallCond&#x27;,\n",
       "       &#x27;YearBuilt&#x27;, &#x27;YearRemodAdd&#x27;, &#x27;MasVnrArea&#x27;, &#x27;BsmtFinSF1&#x27;, &#x27;BsmtFinSF2&#x27;,\n",
       "       &#x27;BsmtUnfSF&#x27;, &#x27;TotalBsmtSF&#x27;, &#x27;1stFlrSF&#x27;, &#x27;2ndFlrSF&#x27;, &#x27;LowQualFinSF&#x27;,\n",
       "       &#x27;GrL...\n",
       "       &#x27;Exterior2nd&#x27;, &#x27;MasVnrType&#x27;, &#x27;ExterQual&#x27;, &#x27;ExterCond&#x27;, &#x27;Foundation&#x27;,\n",
       "       &#x27;BsmtQual&#x27;, &#x27;BsmtCond&#x27;, &#x27;BsmtExposure&#x27;, &#x27;BsmtFinType1&#x27;, &#x27;BsmtFinType2&#x27;,\n",
       "       &#x27;Heating&#x27;, &#x27;HeatingQC&#x27;, &#x27;CentralAir&#x27;, &#x27;Electrical&#x27;, &#x27;KitchenQual&#x27;,\n",
       "       &#x27;Functional&#x27;, &#x27;FireplaceQu&#x27;, &#x27;GarageType&#x27;, &#x27;GarageFinish&#x27;, &#x27;GarageQual&#x27;,\n",
       "       &#x27;GarageCond&#x27;, &#x27;PavedDrive&#x27;, &#x27;PoolQC&#x27;, &#x27;Fence&#x27;, &#x27;MiscFeature&#x27;,\n",
       "       &#x27;SaleType&#x27;, &#x27;SaleCondition&#x27;],\n",
       "      dtype=&#x27;object&#x27;))])</pre></div></div></div><div class=\"sk-parallel\"><div class=\"sk-parallel-item\"><div class=\"sk-item\"><div class=\"sk-label-container\"><div class=\"sk-label sk-toggleable\"><input class=\"sk-toggleable__control sk-hidden--visually\" id=\"sk-estimator-id-38\" type=\"checkbox\" ><label for=\"sk-estimator-id-38\" class=\"sk-toggleable__label sk-toggleable__label-arrow\">num_pipe</label><div class=\"sk-toggleable__content\"><pre>Index([&#x27;MSSubClass&#x27;, &#x27;LotFrontage&#x27;, &#x27;LotArea&#x27;, &#x27;OverallQual&#x27;, &#x27;OverallCond&#x27;,\n",
       "       &#x27;YearBuilt&#x27;, &#x27;YearRemodAdd&#x27;, &#x27;MasVnrArea&#x27;, &#x27;BsmtFinSF1&#x27;, &#x27;BsmtFinSF2&#x27;,\n",
       "       &#x27;BsmtUnfSF&#x27;, &#x27;TotalBsmtSF&#x27;, &#x27;1stFlrSF&#x27;, &#x27;2ndFlrSF&#x27;, &#x27;LowQualFinSF&#x27;,\n",
       "       &#x27;GrLivArea&#x27;, &#x27;BsmtFullBath&#x27;, &#x27;BsmtHalfBath&#x27;, &#x27;FullBath&#x27;, &#x27;HalfBath&#x27;,\n",
       "       &#x27;BedroomAbvGr&#x27;, &#x27;KitchenAbvGr&#x27;, &#x27;TotRmsAbvGrd&#x27;, &#x27;Fireplaces&#x27;,\n",
       "       &#x27;GarageYrBlt&#x27;, &#x27;GarageCars&#x27;, &#x27;GarageArea&#x27;, &#x27;WoodDeckSF&#x27;, &#x27;OpenPorchSF&#x27;,\n",
       "       &#x27;EnclosedPorch&#x27;, &#x27;3SsnPorch&#x27;, &#x27;ScreenPorch&#x27;, &#x27;PoolArea&#x27;, &#x27;MiscVal&#x27;,\n",
       "       &#x27;MoSold&#x27;, &#x27;YrSold&#x27;],\n",
       "      dtype=&#x27;object&#x27;)</pre></div></div></div><div class=\"sk-serial\"><div class=\"sk-item\"><div class=\"sk-serial\"><div class=\"sk-item\"><div class=\"sk-estimator sk-toggleable\"><input class=\"sk-toggleable__control sk-hidden--visually\" id=\"sk-estimator-id-39\" type=\"checkbox\" ><label for=\"sk-estimator-id-39\" class=\"sk-toggleable__label sk-toggleable__label-arrow\">MinMaxScaler</label><div class=\"sk-toggleable__content\"><pre>MinMaxScaler()</pre></div></div></div><div class=\"sk-item\"><div class=\"sk-estimator sk-toggleable\"><input class=\"sk-toggleable__control sk-hidden--visually\" id=\"sk-estimator-id-40\" type=\"checkbox\" ><label for=\"sk-estimator-id-40\" class=\"sk-toggleable__label sk-toggleable__label-arrow\">SimpleImputer</label><div class=\"sk-toggleable__content\"><pre>SimpleImputer(strategy=&#x27;median&#x27;)</pre></div></div></div></div></div></div></div></div><div class=\"sk-parallel-item\"><div class=\"sk-item\"><div class=\"sk-label-container\"><div class=\"sk-label sk-toggleable\"><input class=\"sk-toggleable__control sk-hidden--visually\" id=\"sk-estimator-id-41\" type=\"checkbox\" ><label for=\"sk-estimator-id-41\" class=\"sk-toggleable__label sk-toggleable__label-arrow\">cat_pipe</label><div class=\"sk-toggleable__content\"><pre>Index([&#x27;MSZoning&#x27;, &#x27;Street&#x27;, &#x27;Alley&#x27;, &#x27;LotShape&#x27;, &#x27;LandContour&#x27;, &#x27;Utilities&#x27;,\n",
       "       &#x27;LotConfig&#x27;, &#x27;LandSlope&#x27;, &#x27;Neighborhood&#x27;, &#x27;Condition1&#x27;, &#x27;Condition2&#x27;,\n",
       "       &#x27;BldgType&#x27;, &#x27;HouseStyle&#x27;, &#x27;RoofStyle&#x27;, &#x27;RoofMatl&#x27;, &#x27;Exterior1st&#x27;,\n",
       "       &#x27;Exterior2nd&#x27;, &#x27;MasVnrType&#x27;, &#x27;ExterQual&#x27;, &#x27;ExterCond&#x27;, &#x27;Foundation&#x27;,\n",
       "       &#x27;BsmtQual&#x27;, &#x27;BsmtCond&#x27;, &#x27;BsmtExposure&#x27;, &#x27;BsmtFinType1&#x27;, &#x27;BsmtFinType2&#x27;,\n",
       "       &#x27;Heating&#x27;, &#x27;HeatingQC&#x27;, &#x27;CentralAir&#x27;, &#x27;Electrical&#x27;, &#x27;KitchenQual&#x27;,\n",
       "       &#x27;Functional&#x27;, &#x27;FireplaceQu&#x27;, &#x27;GarageType&#x27;, &#x27;GarageFinish&#x27;, &#x27;GarageQual&#x27;,\n",
       "       &#x27;GarageCond&#x27;, &#x27;PavedDrive&#x27;, &#x27;PoolQC&#x27;, &#x27;Fence&#x27;, &#x27;MiscFeature&#x27;,\n",
       "       &#x27;SaleType&#x27;, &#x27;SaleCondition&#x27;],\n",
       "      dtype=&#x27;object&#x27;)</pre></div></div></div><div class=\"sk-serial\"><div class=\"sk-item\"><div class=\"sk-serial\"><div class=\"sk-item\"><div class=\"sk-estimator sk-toggleable\"><input class=\"sk-toggleable__control sk-hidden--visually\" id=\"sk-estimator-id-42\" type=\"checkbox\" ><label for=\"sk-estimator-id-42\" class=\"sk-toggleable__label sk-toggleable__label-arrow\">SimpleImputer</label><div class=\"sk-toggleable__content\"><pre>SimpleImputer(strategy=&#x27;most_frequent&#x27;)</pre></div></div></div><div class=\"sk-item\"><div class=\"sk-estimator sk-toggleable\"><input class=\"sk-toggleable__control sk-hidden--visually\" id=\"sk-estimator-id-43\" type=\"checkbox\" ><label for=\"sk-estimator-id-43\" class=\"sk-toggleable__label sk-toggleable__label-arrow\">OneHotEncoder</label><div class=\"sk-toggleable__content\"><pre>OneHotEncoder(drop=&#x27;first&#x27;, handle_unknown=&#x27;ignore&#x27;, sparse=False)</pre></div></div></div></div></div></div></div></div></div></div></div></div>"
      ],
      "text/plain": [
       "ColumnTransformer(transformers=[('num_pipe',\n",
       "                                 Pipeline(steps=[('minmaxscaler',\n",
       "                                                  MinMaxScaler()),\n",
       "                                                 ('simpleimputer',\n",
       "                                                  SimpleImputer(strategy='median'))]),\n",
       "                                 Index(['MSSubClass', 'LotFrontage', 'LotArea', 'OverallQual', 'OverallCond',\n",
       "       'YearBuilt', 'YearRemodAdd', 'MasVnrArea', 'BsmtFinSF1', 'BsmtFinSF2',\n",
       "       'BsmtUnfSF', 'TotalBsmtSF', '1stFlrSF', '2ndFlrSF', 'LowQualFinSF',\n",
       "       'GrL...\n",
       "       'Exterior2nd', 'MasVnrType', 'ExterQual', 'ExterCond', 'Foundation',\n",
       "       'BsmtQual', 'BsmtCond', 'BsmtExposure', 'BsmtFinType1', 'BsmtFinType2',\n",
       "       'Heating', 'HeatingQC', 'CentralAir', 'Electrical', 'KitchenQual',\n",
       "       'Functional', 'FireplaceQu', 'GarageType', 'GarageFinish', 'GarageQual',\n",
       "       'GarageCond', 'PavedDrive', 'PoolQC', 'Fence', 'MiscFeature',\n",
       "       'SaleType', 'SaleCondition'],\n",
       "      dtype='object'))])"
      ]
     },
     "execution_count": 68,
     "metadata": {},
     "output_type": "execute_result"
    }
   ],
   "source": [
    "from sklearn.compose import ColumnTransformer  #make_column_Transformer then dont need to mention names\n",
    "\n",
    "preprocessor = ColumnTransformer(\n",
    "    transformers=[\n",
    "        (\"num_pipe\", numeric_pipe , X_num_columns),\n",
    "        (\"cat_pipe\", categoric_pipe, X_cat_columns),\n",
    "    ]\n",
    ")\n",
    "\n",
    "preprocessor"
   ]
  },
  {
   "cell_type": "code",
   "execution_count": 69,
   "id": "544f61fd-90b9-48fe-b630-0d8969501ebb",
   "metadata": {},
   "outputs": [],
   "source": [
    "full_pipeline = make_pipeline(preprocessor)"
   ]
  },
  {
   "cell_type": "code",
   "execution_count": 70,
   "id": "f910f27a-91ad-49ba-8208-eb0ffa56f50e",
   "metadata": {},
   "outputs": [
    {
     "data": {
      "text/html": [
       "<style>#sk-container-id-7 {color: black;background-color: white;}#sk-container-id-7 pre{padding: 0;}#sk-container-id-7 div.sk-toggleable {background-color: white;}#sk-container-id-7 label.sk-toggleable__label {cursor: pointer;display: block;width: 100%;margin-bottom: 0;padding: 0.3em;box-sizing: border-box;text-align: center;}#sk-container-id-7 label.sk-toggleable__label-arrow:before {content: \"▸\";float: left;margin-right: 0.25em;color: #696969;}#sk-container-id-7 label.sk-toggleable__label-arrow:hover:before {color: black;}#sk-container-id-7 div.sk-estimator:hover label.sk-toggleable__label-arrow:before {color: black;}#sk-container-id-7 div.sk-toggleable__content {max-height: 0;max-width: 0;overflow: hidden;text-align: left;background-color: #f0f8ff;}#sk-container-id-7 div.sk-toggleable__content pre {margin: 0.2em;color: black;border-radius: 0.25em;background-color: #f0f8ff;}#sk-container-id-7 input.sk-toggleable__control:checked~div.sk-toggleable__content {max-height: 200px;max-width: 100%;overflow: auto;}#sk-container-id-7 input.sk-toggleable__control:checked~label.sk-toggleable__label-arrow:before {content: \"▾\";}#sk-container-id-7 div.sk-estimator input.sk-toggleable__control:checked~label.sk-toggleable__label {background-color: #d4ebff;}#sk-container-id-7 div.sk-label input.sk-toggleable__control:checked~label.sk-toggleable__label {background-color: #d4ebff;}#sk-container-id-7 input.sk-hidden--visually {border: 0;clip: rect(1px 1px 1px 1px);clip: rect(1px, 1px, 1px, 1px);height: 1px;margin: -1px;overflow: hidden;padding: 0;position: absolute;width: 1px;}#sk-container-id-7 div.sk-estimator {font-family: monospace;background-color: #f0f8ff;border: 1px dotted black;border-radius: 0.25em;box-sizing: border-box;margin-bottom: 0.5em;}#sk-container-id-7 div.sk-estimator:hover {background-color: #d4ebff;}#sk-container-id-7 div.sk-parallel-item::after {content: \"\";width: 100%;border-bottom: 1px solid gray;flex-grow: 1;}#sk-container-id-7 div.sk-label:hover label.sk-toggleable__label {background-color: #d4ebff;}#sk-container-id-7 div.sk-serial::before {content: \"\";position: absolute;border-left: 1px solid gray;box-sizing: border-box;top: 0;bottom: 0;left: 50%;z-index: 0;}#sk-container-id-7 div.sk-serial {display: flex;flex-direction: column;align-items: center;background-color: white;padding-right: 0.2em;padding-left: 0.2em;position: relative;}#sk-container-id-7 div.sk-item {position: relative;z-index: 1;}#sk-container-id-7 div.sk-parallel {display: flex;align-items: stretch;justify-content: center;background-color: white;position: relative;}#sk-container-id-7 div.sk-item::before, #sk-container-id-7 div.sk-parallel-item::before {content: \"\";position: absolute;border-left: 1px solid gray;box-sizing: border-box;top: 0;bottom: 0;left: 50%;z-index: -1;}#sk-container-id-7 div.sk-parallel-item {display: flex;flex-direction: column;z-index: 1;position: relative;background-color: white;}#sk-container-id-7 div.sk-parallel-item:first-child::after {align-self: flex-end;width: 50%;}#sk-container-id-7 div.sk-parallel-item:last-child::after {align-self: flex-start;width: 50%;}#sk-container-id-7 div.sk-parallel-item:only-child::after {width: 0;}#sk-container-id-7 div.sk-dashed-wrapped {border: 1px dashed gray;margin: 0 0.4em 0.5em 0.4em;box-sizing: border-box;padding-bottom: 0.4em;background-color: white;}#sk-container-id-7 div.sk-label label {font-family: monospace;font-weight: bold;display: inline-block;line-height: 1.2em;}#sk-container-id-7 div.sk-label-container {text-align: center;}#sk-container-id-7 div.sk-container {/* jupyter's `normalize.less` sets `[hidden] { display: none; }` but bootstrap.min.css set `[hidden] { display: none !important; }` so we also need the `!important` here to be able to override the default hidden behavior on the sphinx rendered scikit-learn.org. See: https://github.com/scikit-learn/scikit-learn/issues/21755 */display: inline-block !important;position: relative;}#sk-container-id-7 div.sk-text-repr-fallback {display: none;}</style><div id=\"sk-container-id-7\" class=\"sk-top-container\"><div class=\"sk-text-repr-fallback\"><pre>Pipeline(steps=[(&#x27;columntransformer&#x27;,\n",
       "                 ColumnTransformer(transformers=[(&#x27;num_pipe&#x27;,\n",
       "                                                  Pipeline(steps=[(&#x27;minmaxscaler&#x27;,\n",
       "                                                                   MinMaxScaler()),\n",
       "                                                                  (&#x27;simpleimputer&#x27;,\n",
       "                                                                   SimpleImputer(strategy=&#x27;median&#x27;))]),\n",
       "                                                  Index([&#x27;MSSubClass&#x27;, &#x27;LotFrontage&#x27;, &#x27;LotArea&#x27;, &#x27;OverallQual&#x27;, &#x27;OverallCond&#x27;,\n",
       "       &#x27;YearBuilt&#x27;, &#x27;YearRemodAdd&#x27;, &#x27;MasVnrArea&#x27;, &#x27;BsmtFinSF1&#x27;, &#x27;BsmtFinSF2&#x27;,\n",
       "       &#x27;BsmtUnfSF&#x27;, &#x27;TotalBsmtSF&#x27;, &#x27;1st...\n",
       "       &#x27;Exterior2nd&#x27;, &#x27;MasVnrType&#x27;, &#x27;ExterQual&#x27;, &#x27;ExterCond&#x27;, &#x27;Foundation&#x27;,\n",
       "       &#x27;BsmtQual&#x27;, &#x27;BsmtCond&#x27;, &#x27;BsmtExposure&#x27;, &#x27;BsmtFinType1&#x27;, &#x27;BsmtFinType2&#x27;,\n",
       "       &#x27;Heating&#x27;, &#x27;HeatingQC&#x27;, &#x27;CentralAir&#x27;, &#x27;Electrical&#x27;, &#x27;KitchenQual&#x27;,\n",
       "       &#x27;Functional&#x27;, &#x27;FireplaceQu&#x27;, &#x27;GarageType&#x27;, &#x27;GarageFinish&#x27;, &#x27;GarageQual&#x27;,\n",
       "       &#x27;GarageCond&#x27;, &#x27;PavedDrive&#x27;, &#x27;PoolQC&#x27;, &#x27;Fence&#x27;, &#x27;MiscFeature&#x27;,\n",
       "       &#x27;SaleType&#x27;, &#x27;SaleCondition&#x27;],\n",
       "      dtype=&#x27;object&#x27;))]))])</pre><b>In a Jupyter environment, please rerun this cell to show the HTML representation or trust the notebook. <br />On GitHub, the HTML representation is unable to render, please try loading this page with nbviewer.org.</b></div><div class=\"sk-container\" hidden><div class=\"sk-item sk-dashed-wrapped\"><div class=\"sk-label-container\"><div class=\"sk-label sk-toggleable\"><input class=\"sk-toggleable__control sk-hidden--visually\" id=\"sk-estimator-id-44\" type=\"checkbox\" ><label for=\"sk-estimator-id-44\" class=\"sk-toggleable__label sk-toggleable__label-arrow\">Pipeline</label><div class=\"sk-toggleable__content\"><pre>Pipeline(steps=[(&#x27;columntransformer&#x27;,\n",
       "                 ColumnTransformer(transformers=[(&#x27;num_pipe&#x27;,\n",
       "                                                  Pipeline(steps=[(&#x27;minmaxscaler&#x27;,\n",
       "                                                                   MinMaxScaler()),\n",
       "                                                                  (&#x27;simpleimputer&#x27;,\n",
       "                                                                   SimpleImputer(strategy=&#x27;median&#x27;))]),\n",
       "                                                  Index([&#x27;MSSubClass&#x27;, &#x27;LotFrontage&#x27;, &#x27;LotArea&#x27;, &#x27;OverallQual&#x27;, &#x27;OverallCond&#x27;,\n",
       "       &#x27;YearBuilt&#x27;, &#x27;YearRemodAdd&#x27;, &#x27;MasVnrArea&#x27;, &#x27;BsmtFinSF1&#x27;, &#x27;BsmtFinSF2&#x27;,\n",
       "       &#x27;BsmtUnfSF&#x27;, &#x27;TotalBsmtSF&#x27;, &#x27;1st...\n",
       "       &#x27;Exterior2nd&#x27;, &#x27;MasVnrType&#x27;, &#x27;ExterQual&#x27;, &#x27;ExterCond&#x27;, &#x27;Foundation&#x27;,\n",
       "       &#x27;BsmtQual&#x27;, &#x27;BsmtCond&#x27;, &#x27;BsmtExposure&#x27;, &#x27;BsmtFinType1&#x27;, &#x27;BsmtFinType2&#x27;,\n",
       "       &#x27;Heating&#x27;, &#x27;HeatingQC&#x27;, &#x27;CentralAir&#x27;, &#x27;Electrical&#x27;, &#x27;KitchenQual&#x27;,\n",
       "       &#x27;Functional&#x27;, &#x27;FireplaceQu&#x27;, &#x27;GarageType&#x27;, &#x27;GarageFinish&#x27;, &#x27;GarageQual&#x27;,\n",
       "       &#x27;GarageCond&#x27;, &#x27;PavedDrive&#x27;, &#x27;PoolQC&#x27;, &#x27;Fence&#x27;, &#x27;MiscFeature&#x27;,\n",
       "       &#x27;SaleType&#x27;, &#x27;SaleCondition&#x27;],\n",
       "      dtype=&#x27;object&#x27;))]))])</pre></div></div></div><div class=\"sk-serial\"><div class=\"sk-item sk-dashed-wrapped\"><div class=\"sk-label-container\"><div class=\"sk-label sk-toggleable\"><input class=\"sk-toggleable__control sk-hidden--visually\" id=\"sk-estimator-id-45\" type=\"checkbox\" ><label for=\"sk-estimator-id-45\" class=\"sk-toggleable__label sk-toggleable__label-arrow\">columntransformer: ColumnTransformer</label><div class=\"sk-toggleable__content\"><pre>ColumnTransformer(transformers=[(&#x27;num_pipe&#x27;,\n",
       "                                 Pipeline(steps=[(&#x27;minmaxscaler&#x27;,\n",
       "                                                  MinMaxScaler()),\n",
       "                                                 (&#x27;simpleimputer&#x27;,\n",
       "                                                  SimpleImputer(strategy=&#x27;median&#x27;))]),\n",
       "                                 Index([&#x27;MSSubClass&#x27;, &#x27;LotFrontage&#x27;, &#x27;LotArea&#x27;, &#x27;OverallQual&#x27;, &#x27;OverallCond&#x27;,\n",
       "       &#x27;YearBuilt&#x27;, &#x27;YearRemodAdd&#x27;, &#x27;MasVnrArea&#x27;, &#x27;BsmtFinSF1&#x27;, &#x27;BsmtFinSF2&#x27;,\n",
       "       &#x27;BsmtUnfSF&#x27;, &#x27;TotalBsmtSF&#x27;, &#x27;1stFlrSF&#x27;, &#x27;2ndFlrSF&#x27;, &#x27;LowQualFinSF&#x27;,\n",
       "       &#x27;GrL...\n",
       "       &#x27;Exterior2nd&#x27;, &#x27;MasVnrType&#x27;, &#x27;ExterQual&#x27;, &#x27;ExterCond&#x27;, &#x27;Foundation&#x27;,\n",
       "       &#x27;BsmtQual&#x27;, &#x27;BsmtCond&#x27;, &#x27;BsmtExposure&#x27;, &#x27;BsmtFinType1&#x27;, &#x27;BsmtFinType2&#x27;,\n",
       "       &#x27;Heating&#x27;, &#x27;HeatingQC&#x27;, &#x27;CentralAir&#x27;, &#x27;Electrical&#x27;, &#x27;KitchenQual&#x27;,\n",
       "       &#x27;Functional&#x27;, &#x27;FireplaceQu&#x27;, &#x27;GarageType&#x27;, &#x27;GarageFinish&#x27;, &#x27;GarageQual&#x27;,\n",
       "       &#x27;GarageCond&#x27;, &#x27;PavedDrive&#x27;, &#x27;PoolQC&#x27;, &#x27;Fence&#x27;, &#x27;MiscFeature&#x27;,\n",
       "       &#x27;SaleType&#x27;, &#x27;SaleCondition&#x27;],\n",
       "      dtype=&#x27;object&#x27;))])</pre></div></div></div><div class=\"sk-parallel\"><div class=\"sk-parallel-item\"><div class=\"sk-item\"><div class=\"sk-label-container\"><div class=\"sk-label sk-toggleable\"><input class=\"sk-toggleable__control sk-hidden--visually\" id=\"sk-estimator-id-46\" type=\"checkbox\" ><label for=\"sk-estimator-id-46\" class=\"sk-toggleable__label sk-toggleable__label-arrow\">num_pipe</label><div class=\"sk-toggleable__content\"><pre>Index([&#x27;MSSubClass&#x27;, &#x27;LotFrontage&#x27;, &#x27;LotArea&#x27;, &#x27;OverallQual&#x27;, &#x27;OverallCond&#x27;,\n",
       "       &#x27;YearBuilt&#x27;, &#x27;YearRemodAdd&#x27;, &#x27;MasVnrArea&#x27;, &#x27;BsmtFinSF1&#x27;, &#x27;BsmtFinSF2&#x27;,\n",
       "       &#x27;BsmtUnfSF&#x27;, &#x27;TotalBsmtSF&#x27;, &#x27;1stFlrSF&#x27;, &#x27;2ndFlrSF&#x27;, &#x27;LowQualFinSF&#x27;,\n",
       "       &#x27;GrLivArea&#x27;, &#x27;BsmtFullBath&#x27;, &#x27;BsmtHalfBath&#x27;, &#x27;FullBath&#x27;, &#x27;HalfBath&#x27;,\n",
       "       &#x27;BedroomAbvGr&#x27;, &#x27;KitchenAbvGr&#x27;, &#x27;TotRmsAbvGrd&#x27;, &#x27;Fireplaces&#x27;,\n",
       "       &#x27;GarageYrBlt&#x27;, &#x27;GarageCars&#x27;, &#x27;GarageArea&#x27;, &#x27;WoodDeckSF&#x27;, &#x27;OpenPorchSF&#x27;,\n",
       "       &#x27;EnclosedPorch&#x27;, &#x27;3SsnPorch&#x27;, &#x27;ScreenPorch&#x27;, &#x27;PoolArea&#x27;, &#x27;MiscVal&#x27;,\n",
       "       &#x27;MoSold&#x27;, &#x27;YrSold&#x27;],\n",
       "      dtype=&#x27;object&#x27;)</pre></div></div></div><div class=\"sk-serial\"><div class=\"sk-item\"><div class=\"sk-serial\"><div class=\"sk-item\"><div class=\"sk-estimator sk-toggleable\"><input class=\"sk-toggleable__control sk-hidden--visually\" id=\"sk-estimator-id-47\" type=\"checkbox\" ><label for=\"sk-estimator-id-47\" class=\"sk-toggleable__label sk-toggleable__label-arrow\">MinMaxScaler</label><div class=\"sk-toggleable__content\"><pre>MinMaxScaler()</pre></div></div></div><div class=\"sk-item\"><div class=\"sk-estimator sk-toggleable\"><input class=\"sk-toggleable__control sk-hidden--visually\" id=\"sk-estimator-id-48\" type=\"checkbox\" ><label for=\"sk-estimator-id-48\" class=\"sk-toggleable__label sk-toggleable__label-arrow\">SimpleImputer</label><div class=\"sk-toggleable__content\"><pre>SimpleImputer(strategy=&#x27;median&#x27;)</pre></div></div></div></div></div></div></div></div><div class=\"sk-parallel-item\"><div class=\"sk-item\"><div class=\"sk-label-container\"><div class=\"sk-label sk-toggleable\"><input class=\"sk-toggleable__control sk-hidden--visually\" id=\"sk-estimator-id-49\" type=\"checkbox\" ><label for=\"sk-estimator-id-49\" class=\"sk-toggleable__label sk-toggleable__label-arrow\">cat_pipe</label><div class=\"sk-toggleable__content\"><pre>Index([&#x27;MSZoning&#x27;, &#x27;Street&#x27;, &#x27;Alley&#x27;, &#x27;LotShape&#x27;, &#x27;LandContour&#x27;, &#x27;Utilities&#x27;,\n",
       "       &#x27;LotConfig&#x27;, &#x27;LandSlope&#x27;, &#x27;Neighborhood&#x27;, &#x27;Condition1&#x27;, &#x27;Condition2&#x27;,\n",
       "       &#x27;BldgType&#x27;, &#x27;HouseStyle&#x27;, &#x27;RoofStyle&#x27;, &#x27;RoofMatl&#x27;, &#x27;Exterior1st&#x27;,\n",
       "       &#x27;Exterior2nd&#x27;, &#x27;MasVnrType&#x27;, &#x27;ExterQual&#x27;, &#x27;ExterCond&#x27;, &#x27;Foundation&#x27;,\n",
       "       &#x27;BsmtQual&#x27;, &#x27;BsmtCond&#x27;, &#x27;BsmtExposure&#x27;, &#x27;BsmtFinType1&#x27;, &#x27;BsmtFinType2&#x27;,\n",
       "       &#x27;Heating&#x27;, &#x27;HeatingQC&#x27;, &#x27;CentralAir&#x27;, &#x27;Electrical&#x27;, &#x27;KitchenQual&#x27;,\n",
       "       &#x27;Functional&#x27;, &#x27;FireplaceQu&#x27;, &#x27;GarageType&#x27;, &#x27;GarageFinish&#x27;, &#x27;GarageQual&#x27;,\n",
       "       &#x27;GarageCond&#x27;, &#x27;PavedDrive&#x27;, &#x27;PoolQC&#x27;, &#x27;Fence&#x27;, &#x27;MiscFeature&#x27;,\n",
       "       &#x27;SaleType&#x27;, &#x27;SaleCondition&#x27;],\n",
       "      dtype=&#x27;object&#x27;)</pre></div></div></div><div class=\"sk-serial\"><div class=\"sk-item\"><div class=\"sk-serial\"><div class=\"sk-item\"><div class=\"sk-estimator sk-toggleable\"><input class=\"sk-toggleable__control sk-hidden--visually\" id=\"sk-estimator-id-50\" type=\"checkbox\" ><label for=\"sk-estimator-id-50\" class=\"sk-toggleable__label sk-toggleable__label-arrow\">SimpleImputer</label><div class=\"sk-toggleable__content\"><pre>SimpleImputer(strategy=&#x27;most_frequent&#x27;)</pre></div></div></div><div class=\"sk-item\"><div class=\"sk-estimator sk-toggleable\"><input class=\"sk-toggleable__control sk-hidden--visually\" id=\"sk-estimator-id-51\" type=\"checkbox\" ><label for=\"sk-estimator-id-51\" class=\"sk-toggleable__label sk-toggleable__label-arrow\">OneHotEncoder</label><div class=\"sk-toggleable__content\"><pre>OneHotEncoder(drop=&#x27;first&#x27;, handle_unknown=&#x27;ignore&#x27;, sparse=False)</pre></div></div></div></div></div></div></div></div></div></div></div></div></div></div>"
      ],
      "text/plain": [
       "Pipeline(steps=[('columntransformer',\n",
       "                 ColumnTransformer(transformers=[('num_pipe',\n",
       "                                                  Pipeline(steps=[('minmaxscaler',\n",
       "                                                                   MinMaxScaler()),\n",
       "                                                                  ('simpleimputer',\n",
       "                                                                   SimpleImputer(strategy='median'))]),\n",
       "                                                  Index(['MSSubClass', 'LotFrontage', 'LotArea', 'OverallQual', 'OverallCond',\n",
       "       'YearBuilt', 'YearRemodAdd', 'MasVnrArea', 'BsmtFinSF1', 'BsmtFinSF2',\n",
       "       'BsmtUnfSF', 'TotalBsmtSF', '1st...\n",
       "       'Exterior2nd', 'MasVnrType', 'ExterQual', 'ExterCond', 'Foundation',\n",
       "       'BsmtQual', 'BsmtCond', 'BsmtExposure', 'BsmtFinType1', 'BsmtFinType2',\n",
       "       'Heating', 'HeatingQC', 'CentralAir', 'Electrical', 'KitchenQual',\n",
       "       'Functional', 'FireplaceQu', 'GarageType', 'GarageFinish', 'GarageQual',\n",
       "       'GarageCond', 'PavedDrive', 'PoolQC', 'Fence', 'MiscFeature',\n",
       "       'SaleType', 'SaleCondition'],\n",
       "      dtype='object'))]))])"
      ]
     },
     "execution_count": 70,
     "metadata": {},
     "output_type": "execute_result"
    }
   ],
   "source": [
    "full_pipeline.fit(X_train, y_train) #training the machine"
   ]
  },
  {
   "cell_type": "code",
   "execution_count": 71,
   "id": "0784cbc8-374a-4728-b7ea-c62eb1cda263",
   "metadata": {},
   "outputs": [
    {
     "data": {
      "text/plain": [
       "array([[0.14705882, 0.12671233, 0.02374442, ..., 0.        , 1.        ,\n",
       "        0.        ],\n",
       "       [0.23529412, 0.16438356, 0.03131646, ..., 0.        , 1.        ,\n",
       "        0.        ],\n",
       "       [0.        , 0.18493151, 0.04370282, ..., 0.        , 1.        ,\n",
       "        0.        ],\n",
       "       ...,\n",
       "       [0.        , 0.37328767, 0.04747482, ..., 0.        , 1.        ,\n",
       "        0.        ],\n",
       "       [0.05882353, 0.03082192, 0.01837856, ..., 0.        , 1.        ,\n",
       "        0.        ],\n",
       "       [0.17647059, 0.09931507, 0.03320947, ..., 0.        , 1.        ,\n",
       "        0.        ]])"
      ]
     },
     "execution_count": 71,
     "metadata": {},
     "output_type": "execute_result"
    }
   ],
   "source": [
    "X_train_cleaned = full_pipeline.transform(X_train)\n",
    "X_train_cleaned"
   ]
  },
  {
   "cell_type": "code",
   "execution_count": 72,
   "id": "07b10bcd-c94d-4bf4-9bcb-5a32102909ae",
   "metadata": {},
   "outputs": [
    {
     "name": "stderr",
     "output_type": "stream",
     "text": [
      "C:\\Users\\shrut\\anaconda3\\lib\\site-packages\\sklearn\\preprocessing\\_encoders.py:188: UserWarning: Found unknown categories in columns [5, 14, 15, 27] during transform. These unknown categories will be encoded as all zeros\n",
      "  warnings.warn(\n"
     ]
    },
    {
     "data": {
      "text/plain": [
       "array([[0.23529412, 0.19863014, 0.05374278, ..., 0.        , 1.        ,\n",
       "        0.        ],\n",
       "       [0.05882353, 0.15753425, 0.03494823, ..., 0.        , 1.        ,\n",
       "        0.        ],\n",
       "       [0.23529412, 0.15068493, 0.03225128, ..., 0.        , 1.        ,\n",
       "        0.        ],\n",
       "       ...,\n",
       "       [0.17647059, 0.13013699, 0.07088738, ..., 0.        , 1.        ,\n",
       "        0.        ],\n",
       "       [0.        , 0.19863014, 0.04201547, ..., 0.        , 1.        ,\n",
       "        0.        ],\n",
       "       [0.        , 0.20205479, 0.03879502, ..., 0.        , 1.        ,\n",
       "        0.        ]])"
      ]
     },
     "execution_count": 72,
     "metadata": {},
     "output_type": "execute_result"
    }
   ],
   "source": [
    "X_test_cleaned = full_pipeline.transform(X_test)\n",
    "X_test_cleaned"
   ]
  },
  {
   "cell_type": "code",
   "execution_count": 73,
   "id": "1b564072-64c7-45bf-8129-61f38adadf98",
   "metadata": {},
   "outputs": [],
   "source": [
    "# Feature Scaling\n",
    "from sklearn.preprocessing import StandardScaler\n",
    "scaler = StandardScaler() # initiate transformer\n",
    "X_train = scaler.fit_transform(X_train_cleaned) # scale data\n",
    "X_test = scaler.transform(X_test_cleaned) # scale test set"
   ]
  },
  {
   "cell_type": "markdown",
   "id": "b4749237-be57-4628-a47a-5fa3ec9da66b",
   "metadata": {},
   "source": [
    "## Modelling (iteration 1)"
   ]
  },
  {
   "cell_type": "code",
   "execution_count": null,
   "id": "25a158af-1ea1-404e-8a2b-cf46f5ab0a8c",
   "metadata": {},
   "outputs": [],
   "source": []
  },
  {
   "cell_type": "code",
   "execution_count": 74,
   "id": "cd811169-9136-497b-9b3d-8c30b645e974",
   "metadata": {},
   "outputs": [
    {
     "name": "stderr",
     "output_type": "stream",
     "text": [
      "C:\\Users\\shrut\\anaconda3\\lib\\site-packages\\sklearn\\model_selection\\_split.py:680: UserWarning: The least populated class in y has only 1 members, which is less than n_splits=5.\n",
      "  warnings.warn(\n"
     ]
    },
    {
     "name": "stdout",
     "output_type": "stream",
     "text": [
      "--- 1.9395203590393066 seconds ---\n",
      "0.01\n"
     ]
    }
   ],
   "source": [
    "start_time = time.time()\n",
    "neigh1 = KNeighborsClassifier()\n",
    "\n",
    "param_distribs={\"n_neighbors\": randint(low=3, high=30),\n",
    "                \"weights\":[\"uniform\", \"distance\"],\n",
    "                \"p\":[1,2]}\n",
    "\n",
    "neigh1_search = RandomizedSearchCV(neigh1,\n",
    "                                   param_distribs,\n",
    "                                   scoring=\"accuracy\",\n",
    "                                   n_iter=50,\n",
    "                                   cv=5,\n",
    "                                   n_jobs=4,\n",
    "                                   random_state=123)\n",
    "\n",
    "neigh1_search.fit(X_train_cleaned, y_train)\n",
    "\n",
    "print(\"--- %s seconds ---\" % (time.time() - start_time))\n",
    "print(round(neigh1_search.best_score_, 2))"
   ]
  },
  {
   "cell_type": "code",
   "execution_count": 75,
   "id": "b9efffb3-8b89-4dab-90e5-79ee96f89709",
   "metadata": {},
   "outputs": [
    {
     "name": "stdout",
     "output_type": "stream",
     "text": [
      "status\n",
      "Wall time: 0 ns\n"
     ]
    }
   ],
   "source": [
    "%%time\n",
    "\n",
    "print(\"status\")"
   ]
  },
  {
   "cell_type": "markdown",
   "id": "408c576a-e1b8-42db-b49c-48d9e36d20cf",
   "metadata": {},
   "source": [
    "## PCA"
   ]
  },
  {
   "cell_type": "code",
   "execution_count": 76,
   "id": "58bcb1d9-a617-4d74-8c86-599d58845f0e",
   "metadata": {},
   "outputs": [],
   "source": [
    "from sklearn.decomposition import PCA\n",
    "\n",
    "pca = PCA(n_components=10) # pick number of components \n",
    "X_reduced = pca.fit_transform(X_train_cleaned)"
   ]
  },
  {
   "cell_type": "code",
   "execution_count": 77,
   "id": "dcbeacb4-37c2-4330-b3ae-aa448a661f68",
   "metadata": {},
   "outputs": [
    {
     "data": {
      "text/plain": [
       "(1168, 10)"
      ]
     },
     "execution_count": 77,
     "metadata": {},
     "output_type": "execute_result"
    }
   ],
   "source": [
    "X_reduced.shape"
   ]
  },
  {
   "cell_type": "code",
   "execution_count": 78,
   "id": "040eafb5-0c16-452a-8122-173f339b634f",
   "metadata": {},
   "outputs": [
    {
     "data": {
      "text/html": [
       "<div>\n",
       "<style scoped>\n",
       "    .dataframe tbody tr th:only-of-type {\n",
       "        vertical-align: middle;\n",
       "    }\n",
       "\n",
       "    .dataframe tbody tr th {\n",
       "        vertical-align: top;\n",
       "    }\n",
       "\n",
       "    .dataframe thead th {\n",
       "        text-align: right;\n",
       "    }\n",
       "</style>\n",
       "<table border=\"1\" class=\"dataframe\">\n",
       "  <thead>\n",
       "    <tr style=\"text-align: right;\">\n",
       "      <th></th>\n",
       "      <th>0</th>\n",
       "      <th>1</th>\n",
       "      <th>2</th>\n",
       "      <th>3</th>\n",
       "      <th>4</th>\n",
       "      <th>5</th>\n",
       "      <th>6</th>\n",
       "      <th>7</th>\n",
       "      <th>8</th>\n",
       "      <th>9</th>\n",
       "    </tr>\n",
       "  </thead>\n",
       "  <tbody>\n",
       "    <tr>\n",
       "      <th>0</th>\n",
       "      <td>-2.074030</td>\n",
       "      <td>1.472900</td>\n",
       "      <td>0.074419</td>\n",
       "      <td>0.461781</td>\n",
       "      <td>0.155231</td>\n",
       "      <td>0.412125</td>\n",
       "      <td>0.014498</td>\n",
       "      <td>0.408432</td>\n",
       "      <td>0.081113</td>\n",
       "      <td>-0.246773</td>\n",
       "    </tr>\n",
       "    <tr>\n",
       "      <th>1</th>\n",
       "      <td>0.425739</td>\n",
       "      <td>-0.401366</td>\n",
       "      <td>1.710173</td>\n",
       "      <td>-0.373847</td>\n",
       "      <td>-0.176356</td>\n",
       "      <td>0.436696</td>\n",
       "      <td>0.373291</td>\n",
       "      <td>-0.114748</td>\n",
       "      <td>-0.295237</td>\n",
       "      <td>-0.549023</td>\n",
       "    </tr>\n",
       "    <tr>\n",
       "      <th>2</th>\n",
       "      <td>-1.358385</td>\n",
       "      <td>-1.074137</td>\n",
       "      <td>-0.391025</td>\n",
       "      <td>-0.718673</td>\n",
       "      <td>0.090289</td>\n",
       "      <td>0.535149</td>\n",
       "      <td>0.423050</td>\n",
       "      <td>-0.703003</td>\n",
       "      <td>0.140582</td>\n",
       "      <td>0.959200</td>\n",
       "    </tr>\n",
       "    <tr>\n",
       "      <th>3</th>\n",
       "      <td>2.241771</td>\n",
       "      <td>-0.059351</td>\n",
       "      <td>1.148856</td>\n",
       "      <td>0.423026</td>\n",
       "      <td>-0.156881</td>\n",
       "      <td>0.163111</td>\n",
       "      <td>-0.762903</td>\n",
       "      <td>-0.311602</td>\n",
       "      <td>-0.094606</td>\n",
       "      <td>-0.560486</td>\n",
       "    </tr>\n",
       "    <tr>\n",
       "      <th>4</th>\n",
       "      <td>2.051366</td>\n",
       "      <td>-0.183908</td>\n",
       "      <td>0.075024</td>\n",
       "      <td>-1.255453</td>\n",
       "      <td>-0.195864</td>\n",
       "      <td>0.028112</td>\n",
       "      <td>-0.849307</td>\n",
       "      <td>0.317998</td>\n",
       "      <td>-0.197333</td>\n",
       "      <td>-0.396147</td>\n",
       "    </tr>\n",
       "    <tr>\n",
       "      <th>...</th>\n",
       "      <td>...</td>\n",
       "      <td>...</td>\n",
       "      <td>...</td>\n",
       "      <td>...</td>\n",
       "      <td>...</td>\n",
       "      <td>...</td>\n",
       "      <td>...</td>\n",
       "      <td>...</td>\n",
       "      <td>...</td>\n",
       "      <td>...</td>\n",
       "    </tr>\n",
       "    <tr>\n",
       "      <th>1163</th>\n",
       "      <td>-1.029752</td>\n",
       "      <td>-0.417506</td>\n",
       "      <td>-0.734615</td>\n",
       "      <td>-0.745671</td>\n",
       "      <td>-0.983482</td>\n",
       "      <td>-0.318892</td>\n",
       "      <td>-0.129395</td>\n",
       "      <td>-0.418698</td>\n",
       "      <td>1.094866</td>\n",
       "      <td>-0.119792</td>\n",
       "    </tr>\n",
       "    <tr>\n",
       "      <th>1164</th>\n",
       "      <td>0.063375</td>\n",
       "      <td>-0.131330</td>\n",
       "      <td>-0.162310</td>\n",
       "      <td>-0.558645</td>\n",
       "      <td>0.450694</td>\n",
       "      <td>0.053410</td>\n",
       "      <td>-0.400463</td>\n",
       "      <td>0.482129</td>\n",
       "      <td>0.246807</td>\n",
       "      <td>-0.265993</td>\n",
       "    </tr>\n",
       "    <tr>\n",
       "      <th>1165</th>\n",
       "      <td>0.094162</td>\n",
       "      <td>-1.400090</td>\n",
       "      <td>0.551999</td>\n",
       "      <td>-1.196101</td>\n",
       "      <td>0.953134</td>\n",
       "      <td>0.155193</td>\n",
       "      <td>0.427914</td>\n",
       "      <td>-0.156501</td>\n",
       "      <td>-0.199598</td>\n",
       "      <td>0.913258</td>\n",
       "    </tr>\n",
       "    <tr>\n",
       "      <th>1166</th>\n",
       "      <td>-1.605719</td>\n",
       "      <td>1.622829</td>\n",
       "      <td>-0.285490</td>\n",
       "      <td>-0.466634</td>\n",
       "      <td>0.384661</td>\n",
       "      <td>-0.744876</td>\n",
       "      <td>0.004329</td>\n",
       "      <td>-0.195208</td>\n",
       "      <td>-1.028900</td>\n",
       "      <td>0.158044</td>\n",
       "    </tr>\n",
       "    <tr>\n",
       "      <th>1167</th>\n",
       "      <td>-1.745447</td>\n",
       "      <td>0.636418</td>\n",
       "      <td>-0.061543</td>\n",
       "      <td>-0.008633</td>\n",
       "      <td>0.499635</td>\n",
       "      <td>0.441594</td>\n",
       "      <td>-0.082565</td>\n",
       "      <td>0.222186</td>\n",
       "      <td>1.011546</td>\n",
       "      <td>-0.612173</td>\n",
       "    </tr>\n",
       "  </tbody>\n",
       "</table>\n",
       "<p>1168 rows × 10 columns</p>\n",
       "</div>"
      ],
      "text/plain": [
       "             0         1         2         3         4         5         6  \\\n",
       "0    -2.074030  1.472900  0.074419  0.461781  0.155231  0.412125  0.014498   \n",
       "1     0.425739 -0.401366  1.710173 -0.373847 -0.176356  0.436696  0.373291   \n",
       "2    -1.358385 -1.074137 -0.391025 -0.718673  0.090289  0.535149  0.423050   \n",
       "3     2.241771 -0.059351  1.148856  0.423026 -0.156881  0.163111 -0.762903   \n",
       "4     2.051366 -0.183908  0.075024 -1.255453 -0.195864  0.028112 -0.849307   \n",
       "...        ...       ...       ...       ...       ...       ...       ...   \n",
       "1163 -1.029752 -0.417506 -0.734615 -0.745671 -0.983482 -0.318892 -0.129395   \n",
       "1164  0.063375 -0.131330 -0.162310 -0.558645  0.450694  0.053410 -0.400463   \n",
       "1165  0.094162 -1.400090  0.551999 -1.196101  0.953134  0.155193  0.427914   \n",
       "1166 -1.605719  1.622829 -0.285490 -0.466634  0.384661 -0.744876  0.004329   \n",
       "1167 -1.745447  0.636418 -0.061543 -0.008633  0.499635  0.441594 -0.082565   \n",
       "\n",
       "             7         8         9  \n",
       "0     0.408432  0.081113 -0.246773  \n",
       "1    -0.114748 -0.295237 -0.549023  \n",
       "2    -0.703003  0.140582  0.959200  \n",
       "3    -0.311602 -0.094606 -0.560486  \n",
       "4     0.317998 -0.197333 -0.396147  \n",
       "...        ...       ...       ...  \n",
       "1163 -0.418698  1.094866 -0.119792  \n",
       "1164  0.482129  0.246807 -0.265993  \n",
       "1165 -0.156501 -0.199598  0.913258  \n",
       "1166 -0.195208 -1.028900  0.158044  \n",
       "1167  0.222186  1.011546 -0.612173  \n",
       "\n",
       "[1168 rows x 10 columns]"
      ]
     },
     "execution_count": 78,
     "metadata": {},
     "output_type": "execute_result"
    }
   ],
   "source": [
    "pd.DataFrame(X_reduced)"
   ]
  },
  {
   "cell_type": "markdown",
   "id": "1b0d2390-84ec-4a21-950b-16ccb26c8914",
   "metadata": {},
   "source": [
    "## Modelling (iteration 2)"
   ]
  },
  {
   "cell_type": "code",
   "execution_count": 79,
   "id": "e57da84a-a501-4752-bc09-d5596ba83863",
   "metadata": {},
   "outputs": [
    {
     "name": "stderr",
     "output_type": "stream",
     "text": [
      "C:\\Users\\shrut\\anaconda3\\lib\\site-packages\\sklearn\\model_selection\\_split.py:680: UserWarning: The least populated class in y has only 1 members, which is less than n_splits=5.\n",
      "  warnings.warn(\n"
     ]
    },
    {
     "name": "stdout",
     "output_type": "stream",
     "text": [
      "--- 0.5731267929077148 seconds ---\n",
      "0.01\n"
     ]
    }
   ],
   "source": [
    "start_time = time.time()\n",
    "neigh2 = KNeighborsClassifier()\n",
    "\n",
    "neigh2_search = RandomizedSearchCV(neigh2,\n",
    "                                   param_distribs,\n",
    "                                   scoring=\"accuracy\",\n",
    "                                   n_iter=50,\n",
    "                                   cv=5,\n",
    "                                   n_jobs=4,\n",
    "                                   random_state=123)\n",
    "\n",
    "neigh2_search.fit(X_reduced, y_train)\n",
    "\n",
    "print(\"--- %s seconds ---\" % (time.time() - start_time))\n",
    "print(round(neigh2_search.best_score_, 2))"
   ]
  },
  {
   "cell_type": "markdown",
   "id": "cdeaa320-04b6-4687-bc13-68b1f960d9b8",
   "metadata": {},
   "source": [
    "### Picking the right number of components"
   ]
  },
  {
   "cell_type": "code",
   "execution_count": 80,
   "id": "52289bf4-d9a5-492d-b4af-a3da2cbfe867",
   "metadata": {},
   "outputs": [],
   "source": [
    "from sklearn.decomposition import PCA\n",
    "\n",
    "pca = PCA(n_components=None) # pick number of components\n",
    "X_reduced = pca.fit_transform(X_train_cleaned)"
   ]
  },
  {
   "cell_type": "code",
   "execution_count": 81,
   "id": "64d7599c-adba-4caa-9365-a092eba2a1d8",
   "metadata": {},
   "outputs": [
    {
     "data": {
      "text/plain": [
       "array([1.648e+01, 6.550e+00, 4.530e+00, 3.210e+00, 2.980e+00, 2.880e+00,\n",
       "       2.550e+00, 2.380e+00, 2.300e+00, 2.150e+00, 2.110e+00, 1.850e+00,\n",
       "       1.790e+00, 1.770e+00, 1.660e+00, 1.560e+00, 1.550e+00, 1.360e+00,\n",
       "       1.310e+00, 1.270e+00, 1.200e+00, 1.170e+00, 1.090e+00, 1.030e+00,\n",
       "       1.010e+00, 9.300e-01, 9.000e-01, 8.800e-01, 8.400e-01, 8.100e-01,\n",
       "       7.900e-01, 7.800e-01, 7.600e-01, 7.000e-01, 6.800e-01, 6.500e-01,\n",
       "       6.200e-01, 6.100e-01, 5.900e-01, 5.700e-01, 5.500e-01, 5.300e-01,\n",
       "       5.200e-01, 5.100e-01, 5.000e-01, 4.800e-01, 4.700e-01, 4.500e-01,\n",
       "       4.300e-01, 4.100e-01, 4.000e-01, 3.900e-01, 3.800e-01, 3.700e-01,\n",
       "       3.600e-01, 3.500e-01, 3.500e-01, 3.400e-01, 3.300e-01, 3.200e-01,\n",
       "       3.000e-01, 2.900e-01, 2.900e-01, 2.800e-01, 2.700e-01, 2.700e-01,\n",
       "       2.700e-01, 2.500e-01, 2.500e-01, 2.500e-01, 2.400e-01, 2.400e-01,\n",
       "       2.300e-01, 2.300e-01, 2.200e-01, 2.200e-01, 2.100e-01, 2.100e-01,\n",
       "       2.000e-01, 2.000e-01, 2.000e-01, 1.900e-01, 1.900e-01, 1.800e-01,\n",
       "       1.800e-01, 1.700e-01, 1.700e-01, 1.600e-01, 1.600e-01, 1.600e-01,\n",
       "       1.500e-01, 1.500e-01, 1.500e-01, 1.400e-01, 1.400e-01, 1.400e-01,\n",
       "       1.400e-01, 1.300e-01, 1.300e-01, 1.300e-01, 1.200e-01, 1.200e-01,\n",
       "       1.100e-01, 1.100e-01, 1.100e-01, 1.100e-01, 1.000e-01, 1.000e-01,\n",
       "       1.000e-01, 9.000e-02, 9.000e-02, 9.000e-02, 9.000e-02, 9.000e-02,\n",
       "       8.000e-02, 8.000e-02, 8.000e-02, 8.000e-02, 8.000e-02, 7.000e-02,\n",
       "       7.000e-02, 7.000e-02, 7.000e-02, 7.000e-02, 7.000e-02, 6.000e-02,\n",
       "       6.000e-02, 6.000e-02, 6.000e-02, 6.000e-02, 6.000e-02, 6.000e-02,\n",
       "       6.000e-02, 5.000e-02, 5.000e-02, 5.000e-02, 5.000e-02, 5.000e-02,\n",
       "       5.000e-02, 5.000e-02, 5.000e-02, 5.000e-02, 4.000e-02, 4.000e-02,\n",
       "       4.000e-02, 4.000e-02, 4.000e-02, 4.000e-02, 4.000e-02, 4.000e-02,\n",
       "       4.000e-02, 4.000e-02, 3.000e-02, 3.000e-02, 3.000e-02, 3.000e-02,\n",
       "       3.000e-02, 3.000e-02, 3.000e-02, 3.000e-02, 3.000e-02, 3.000e-02,\n",
       "       3.000e-02, 3.000e-02, 2.000e-02, 2.000e-02, 2.000e-02, 2.000e-02,\n",
       "       2.000e-02, 2.000e-02, 2.000e-02, 2.000e-02, 2.000e-02, 2.000e-02,\n",
       "       2.000e-02, 2.000e-02, 2.000e-02, 2.000e-02, 2.000e-02, 2.000e-02,\n",
       "       2.000e-02, 2.000e-02, 2.000e-02, 2.000e-02, 1.000e-02, 1.000e-02,\n",
       "       1.000e-02, 1.000e-02, 1.000e-02, 1.000e-02, 1.000e-02, 1.000e-02,\n",
       "       1.000e-02, 1.000e-02, 1.000e-02, 1.000e-02, 1.000e-02, 1.000e-02,\n",
       "       1.000e-02, 1.000e-02, 1.000e-02, 1.000e-02, 1.000e-02, 1.000e-02,\n",
       "       1.000e-02, 1.000e-02, 1.000e-02, 1.000e-02, 1.000e-02, 1.000e-02,\n",
       "       1.000e-02, 1.000e-02, 1.000e-02, 1.000e-02, 0.000e+00, 0.000e+00,\n",
       "       0.000e+00, 0.000e+00, 0.000e+00, 0.000e+00, 0.000e+00, 0.000e+00,\n",
       "       0.000e+00, 0.000e+00, 0.000e+00, 0.000e+00, 0.000e+00, 0.000e+00,\n",
       "       0.000e+00, 0.000e+00, 0.000e+00, 0.000e+00, 0.000e+00, 0.000e+00,\n",
       "       0.000e+00, 0.000e+00, 0.000e+00, 0.000e+00, 0.000e+00, 0.000e+00,\n",
       "       0.000e+00])"
      ]
     },
     "execution_count": 81,
     "metadata": {},
     "output_type": "execute_result"
    }
   ],
   "source": [
    "np.round(pca.explained_variance_ratio_, 4)*100"
   ]
  },
  {
   "cell_type": "code",
   "execution_count": 82,
   "id": "62174207-6129-48f9-b579-52b2f73325e1",
   "metadata": {},
   "outputs": [],
   "source": [
    "# compute the cumulative sum of explained variance ratio\n",
    "\n",
    "# create a plot to visualize the cumulative sum of explained variance\n",
    "# as the number of principal components increases\n",
    "\n",
    "# How much variance do you want to keep in the data?\n",
    "# How many components (dimensions) should you drop, considering computing power, the curse of dimensionality, overfitting..?"
   ]
  },
  {
   "cell_type": "code",
   "execution_count": 83,
   "id": "73bf51ba-e0da-49c0-ac24-c9ea8d48738b",
   "metadata": {},
   "outputs": [
    {
     "data": {
      "image/png": "[encoded data removed]",
      "text/plain": [
       "<Figure size 576x288 with 1 Axes>"
      ]
     },
     "metadata": {
      "needs_background": "light"
     },
     "output_type": "display_data"
    }
   ],
   "source": [
    "cumsum = np.cumsum(pca.explained_variance_ratio_)\n",
    "\n",
    "fig, ax = plt.subplots(figsize=(8, 4))\n",
    "ax.plot(cumsum, label = \"Explained variance\");"
   ]
  },
  {
   "cell_type": "code",
   "execution_count": 84,
   "id": "daee8ae7-433b-4fac-a478-1c7fc2fde0ab",
   "metadata": {},
   "outputs": [
    {
     "data": {
      "image/png": "[encoded data removed]",
      "text/plain": [
       "<Figure size 864x432 with 1 Axes>"
      ]
     },
     "metadata": {
      "needs_background": "light"
     },
     "output_type": "display_data"
    }
   ],
   "source": [
    "import matplotlib.pyplot as plt\n",
    "\n",
    "cumsum = np.cumsum(pca.explained_variance_ratio_)\n",
    "d = np.argmax(cumsum >= 0.95)\n",
    "\n",
    "# create first figure and ax\n",
    "fig, ax = plt.subplots(figsize=(12, 6))\n",
    "ax.plot(cumsum, label = \"Explained variance\", c=\"chocolate\")\n",
    "\n",
    "ax.annotate(\"Elbow?\", xy=(270, 0.92), xytext=(280, 0.75),\n",
    "             arrowprops=dict(arrowstyle=\"->\"), fontsize=16)\n",
    "\n",
    "ax.plot([d, d], [0, 0.95], \"k:\")\n",
    "ax.plot([0, d], [0.95, 0.95], \"k:\")\n",
    "ax.plot(d, 0.95, \"ko\")\n",
    "\n",
    "ax.set_ylabel(\"Explained Variance\")\n",
    "ax.set_xlabel(\"Number of Components\");"
   ]
  },
  {
   "cell_type": "markdown",
   "id": "f4c9d101-cdd9-4256-865f-7312f3f3cacc",
   "metadata": {},
   "source": [
    "# Pre-processing + model pipeline"
   ]
  },
  {
   "cell_type": "markdown",
   "id": "277cae7e-faf0-4fb6-8fe4-2ab41da12fda",
   "metadata": {},
   "source": [
    "`make_pipeline()` is almost identical to `Pipeline()`: you can call as many transformers as you want (you don't even need to initialize them before) sequentially. Then, you can use fit(), transform() or fit_transform() as if it was only a single transformer.\n",
    "\n",
    "`make_pipeline()` does't require explicit naming of the steps (generates the names automatically) - it can be used when we don't care about the names and simply want to create a quick pipeline.\n",
    "\n",
    "In both cases, a model can be added at the end of the pipeline. You can then call the `fit()` method to the pipeline to apply all the transformations and fit the model, passing the X and y of the training set as arguments.\n",
    "\n",
    "A pipeline with a model also has the `predict()` method available. Passing an X to that method (either the train or the test) will transform the data and output predictions."
   ]
  },
  {
   "cell_type": "markdown",
   "id": "0c57a1fb-e4c9-47cd-82b0-6fa31c17d195",
   "metadata": {},
   "source": [
    "#### Pre-processing pipeline"
   ]
  },
  {
   "cell_type": "code",
   "execution_count": 85,
   "id": "98dff842-72fd-4723-8d0a-62232f791546",
   "metadata": {},
   "outputs": [],
   "source": [
    "X_train_2 = X_train_original.copy()\n",
    "X_test_2 = X_test_original.copy()"
   ]
  },
  {
   "cell_type": "code",
   "execution_count": 91,
   "id": "17f001f5-abd6-4a62-92d2-91d5702c4622",
   "metadata": {},
   "outputs": [],
   "source": [
    "from sklearn.pipeline import make_pipeline\n",
    "\n",
    "param_distribs={\"n_neighbors\": randint(low=3, high=30),\n",
    "                \"weights\":[\"uniform\", \"distance\"],\n",
    "                \"p\":[1,2]}\n",
    "\n",
    "neigh3_search = RandomizedSearchCV(KNeighborsClassifier(),\n",
    "                                   param_distribs,\n",
    "                                   scoring=\"accuracy\",\n",
    "                                   n_iter=50,\n",
    "                                   cv=5,\n",
    "                                   n_jobs=4,\n",
    "                                   random_state=123)\n",
    "\n",
    "\n",
    "model_pipeline = make_pipeline(StandardScaler(),\n",
    "                                 PCA(n_components=0.98),\n",
    "                                 neigh3_search)"
   ]
  },
  {
   "cell_type": "code",
   "execution_count": 106,
   "id": "f92bf7b9-6bd8-48a2-9442-8b942b267ad1",
   "metadata": {},
   "outputs": [],
   "source": [
    "X_train_cleaned1 = full_pipeline.transform(X_train_2)"
   ]
  },
  {
   "cell_type": "code",
   "execution_count": 107,
   "id": "83affc93-7904-4600-bccb-113710d6e789",
   "metadata": {},
   "outputs": [],
   "source": [
    "model_pipeline.fit(X_train_2, y_train)"
   ]
  },
  {
   "cell_type": "markdown",
   "id": "9d7367c8-f827-471e-8c26-7aed504addc8",
   "metadata": {},
   "source": [
    "You can still access the randomized search cv scores, parameters..."
   ]
  },
  {
   "cell_type": "code",
   "execution_count": 94,
   "id": "319f6de0-e5d7-436c-88e3-a5c458097c39",
   "metadata": {},
   "outputs": [
    {
     "data": {
      "text/plain": [
       "0.012857195260628737"
      ]
     },
     "execution_count": 94,
     "metadata": {},
     "output_type": "execute_result"
    }
   ],
   "source": [
    "model_pipeline[\"randomizedsearchcv\"].best_score_"
   ]
  },
  {
   "cell_type": "code",
   "execution_count": 95,
   "id": "262725b7-fe30-43f7-95ad-26ef6309afed",
   "metadata": {},
   "outputs": [
    {
     "data": {
      "text/plain": [
       "{'n_neighbors': 29, 'p': 1, 'weights': 'uniform'}"
      ]
     },
     "execution_count": 95,
     "metadata": {},
     "output_type": "execute_result"
    }
   ],
   "source": [
    "model_pipeline[\"randomizedsearchcv\"].best_params_"
   ]
  },
  {
   "cell_type": "markdown",
   "id": "7e216f5f-f619-4bc8-a326-10cc6779ff6a",
   "metadata": {},
   "source": [
    "### Cross validation: tuning the parameters in the pipeline\n",
    "\n",
    "Some transformers in the pipeline"
   ]
  },
  {
   "cell_type": "code",
   "execution_count": 96,
   "id": "f97fedcc-0a62-4688-9f2e-4e1f9164d068",
   "metadata": {},
   "outputs": [],
   "source": [
    "X_train_3 = X_train_original.copy()\n",
    "X_test_3 = X_test_original.copy()"
   ]
  },
  {
   "cell_type": "code",
   "execution_count": 97,
   "id": "8afdd10b-49d2-4939-9e14-b945faef27b1",
   "metadata": {},
   "outputs": [],
   "source": [
    "from sklearn.pipeline import Pipeline\n",
    "\n",
    "model_pipeline = Pipeline([(\"scaler\", StandardScaler()),\n",
    "                          (\"pca\", PCA()),\n",
    "                          (\"neigh\", KNeighborsClassifier())])\n",
    "\n",
    "param_grid = {\n",
    "    \"pca__n_components\": [10, 30, 50, 100],\n",
    "    \"neigh__n_neighbors\": [3, 15, 50, 80, 150]\n",
    "}"
   ]
  },
  {
   "cell_type": "code",
   "execution_count": 98,
   "id": "ea2f6d2e-cb06-4ac9-b8c4-8409c3af3430",
   "metadata": {},
   "outputs": [],
   "source": [
    "neigh3_search = RandomizedSearchCV(model_pipeline,\n",
    "                                   param_grid,\n",
    "                                   scoring=\"accuracy\",\n",
    "                                   n_iter=10,\n",
    "                                   cv=5,\n",
    "                                   n_jobs=4,\n",
    "                                   random_state=123)"
   ]
  },
  {
   "cell_type": "code",
   "execution_count": 100,
   "id": "d7dd8192-790a-47c2-867d-f00fefac2ff2",
   "metadata": {},
   "outputs": [],
   "source": [
    "X_train_cleaned2 = full_pipeline.transform(X_train_3)"
   ]
  },
  {
   "cell_type": "code",
   "execution_count": 105,
   "id": "3793b700-34e6-4cbb-8381-3898b34d62ff",
   "metadata": {},
   "outputs": [],
   "source": [
    "neigh3_search.fit(X_train_cleaned2, y_train)"
   ]
  },
  {
   "cell_type": "code",
   "execution_count": 103,
   "id": "ec14fa14-2e19-43f4-b174-6fe4b29e1584",
   "metadata": {},
   "outputs": [
    {
     "data": {
      "text/plain": [
       "{'pca__n_components': 30, 'neigh__n_neighbors': 150}"
      ]
     },
     "execution_count": 103,
     "metadata": {},
     "output_type": "execute_result"
    }
   ],
   "source": [
    "neigh3_search.best_params_"
   ]
  },
  {
   "cell_type": "code",
   "execution_count": 104,
   "id": "530afecb-3bf8-467e-b4ad-9796f0fbcaf3",
   "metadata": {},
   "outputs": [
    {
     "data": {
      "text/plain": [
       "0.017989068632845457"
      ]
     },
     "execution_count": 104,
     "metadata": {},
     "output_type": "execute_result"
    }
   ],
   "source": [
    "neigh3_search.best_score_"
   ]
  },
  {
   "cell_type": "code",
   "execution_count": null,
   "id": "23411d94-8a32-4fc5-bc99-d0c374815406",
   "metadata": {},
   "outputs": [],
   "source": []
  },
  {
   "cell_type": "code",
   "execution_count": null,
   "id": "048cef4f-7449-443e-973d-be3e4993a3fa",
   "metadata": {},
   "outputs": [],
   "source": []
  },
  {
   "cell_type": "code",
   "execution_count": null,
   "id": "aa6ae461-a0f8-48c7-b42b-a2cae87fb2d4",
   "metadata": {},
   "outputs": [],
   "source": []
  }
 ],
 "metadata": {
  "kernelspec": {
   "display_name": "Python 3 (ipykernel)",
   "language": "python",
   "name": "python3"
  },
  "language_info": {
   "codemirror_mode": {
    "name": "ipython",
    "version": 3
   },
   "file_extension": ".py",
   "mimetype": "text/x-python",
   "name": "python",
   "nbconvert_exporter": "python",
   "pygments_lexer": "ipython3",
   "version": "3.9.7"
  }
 },
 "nbformat": 4,
 "nbformat_minor": 5
}
